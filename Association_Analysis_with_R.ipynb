{
  "nbformat": 4,
  "nbformat_minor": 0,
  "metadata": {
    "colab": {
      "name": "Association Analysis with R",
      "provenance": [],
      "toc_visible": true,
      "authorship_tag": "ABX9TyOdp+Z+ue/8mGDq5mu6CgIV",
      "include_colab_link": true
    },
    "kernelspec": {
      "name": "ir",
      "display_name": "R"
    },
    "language_info": {
      "name": "R"
    }
  },
  "cells": [
    {
      "cell_type": "markdown",
      "metadata": {
        "id": "view-in-github",
        "colab_type": "text"
      },
      "source": [
        "<a href=\"https://colab.research.google.com/github/Ciiku-Kihara/PCA-ANOMALY-DETECTION-AND-ASSOCIATION-ANALYSIS-WITH-R/blob/main/Association_Analysis_with_R.ipynb\" target=\"_parent\"><img src=\"https://colab.research.google.com/assets/colab-badge.svg\" alt=\"Open In Colab\"/></a>"
      ]
    },
    {
      "cell_type": "markdown",
      "metadata": {
        "id": "8CpsgpJbLdQz"
      },
      "source": [
        "# Association Analysis with R\n",
        "\n",
        "\n"
      ]
    },
    {
      "cell_type": "markdown",
      "metadata": {
        "id": "33NE-8v8CmsW"
      },
      "source": [
        "## a) Defining the analysis question\n",
        "\n",
        "You are a Data analyst at Carrefour Kenya and are currently undertaking a project that will inform the marketing department on the most relevant marketing strategies that will result in the highest no. of sales (total price including tax).\n",
        "\n",
        "I am expected to find out the associations between products"
      ]
    },
    {
      "cell_type": "markdown",
      "metadata": {
        "id": "wZSZp22JCm_d"
      },
      "source": [
        "## b) Defining the metric for success\n",
        "\n",
        "Be able to effectively identify associations between the different products"
      ]
    },
    {
      "cell_type": "markdown",
      "metadata": {
        "id": "HVy3K5fwCng1"
      },
      "source": [
        "## c) Understanding the context\n",
        "\n",
        "Carrefour was launched in the region in 1995 by UAE-based Majid Al Futtaim, which is the exclusive franchisee to operate Carrefour in over 30 countries across the Middle East, Africa, and Asia, and fully owns the operations in the region. Today, Majid Al Futtaim operates over 320 Carrefour stores in 16 countries, serving more than 750,000 customers daily and employing over 37,000 colleagues.\n",
        "\n",
        "Carrefour operates different store formats, as well as multiple online offerings to meet the growing needs of its diversified customer base. In line with the brand’s commitment to provide the widest range of quality products and value for money, Carrefour offers an unrivalled choice of more than 500,000 food and non-food products, and a locally inspired exemplary customer experience to create great moments for everyone every day."
      ]
    },
    {
      "cell_type": "markdown",
      "metadata": {
        "id": "9jEWKlBsCnu1"
      },
      "source": [
        "## d) Recording the experimental design\n",
        "\n",
        "- Problem Definition\n",
        "- Association Analysis\n",
        "- Provide insights based on my analysis\n",
        "- Provide recommendations\n"
      ]
    },
    {
      "cell_type": "markdown",
      "metadata": {
        "id": "xVfDopdICn9E"
      },
      "source": [
        "## e) Data Relevance\n",
        "\n",
        "The dataset adequate to do association analysis"
      ]
    },
    {
      "cell_type": "markdown",
      "metadata": {
        "id": "LukZafoZCoLo"
      },
      "source": [
        "# 2. Installing and importing relevant libraries"
      ]
    },
    {
      "cell_type": "code",
      "metadata": {
        "colab": {
          "base_uri": "https://localhost:8080/"
        },
        "id": "UlqxFNG7JqqB",
        "outputId": "babb663a-aa35-48a8-d762-a4baa936d57b"
      },
      "source": [
        "# Installing the necessary packages\n",
        "\n",
        "install.packages(c(\"arules\", \"tidyverse\"))\n"
      ],
      "execution_count": 1,
      "outputs": [
        {
          "output_type": "stream",
          "text": [
            "Installing packages into ‘/usr/local/lib/R/site-library’\n",
            "(as ‘lib’ is unspecified)\n",
            "\n"
          ],
          "name": "stderr"
        }
      ]
    },
    {
      "cell_type": "code",
      "metadata": {
        "colab": {
          "base_uri": "https://localhost:8080/"
        },
        "id": "UtGcf6GNKqIz",
        "outputId": "8ddde3a9-aa85-4486-a196-11d2bca8259c"
      },
      "source": [
        "# Loading the libraries\n",
        "\n",
        "library(arules)\n",
        "library(tidyverse)"
      ],
      "execution_count": 2,
      "outputs": [
        {
          "output_type": "stream",
          "text": [
            "Loading required package: Matrix\n",
            "\n",
            "\n",
            "Attaching package: ‘arules’\n",
            "\n",
            "\n",
            "The following objects are masked from ‘package:base’:\n",
            "\n",
            "    abbreviate, write\n",
            "\n",
            "\n",
            "Warning message in system(\"timedatectl\", intern = TRUE):\n",
            "“running command 'timedatectl' had status 1”\n",
            "── \u001b[1mAttaching packages\u001b[22m ─────────────────────────────────────── tidyverse 1.3.1 ──\n",
            "\n",
            "\u001b[32m✔\u001b[39m \u001b[34mggplot2\u001b[39m 3.3.3     \u001b[32m✔\u001b[39m \u001b[34mpurrr  \u001b[39m 0.3.4\n",
            "\u001b[32m✔\u001b[39m \u001b[34mtibble \u001b[39m 3.1.2     \u001b[32m✔\u001b[39m \u001b[34mdplyr  \u001b[39m 1.0.6\n",
            "\u001b[32m✔\u001b[39m \u001b[34mtidyr  \u001b[39m 1.1.3     \u001b[32m✔\u001b[39m \u001b[34mstringr\u001b[39m 1.4.0\n",
            "\u001b[32m✔\u001b[39m \u001b[34mreadr  \u001b[39m 1.4.0     \u001b[32m✔\u001b[39m \u001b[34mforcats\u001b[39m 0.5.1\n",
            "\n",
            "── \u001b[1mConflicts\u001b[22m ────────────────────────────────────────── tidyverse_conflicts() ──\n",
            "\u001b[31m✖\u001b[39m \u001b[34mtidyr\u001b[39m::\u001b[32mexpand()\u001b[39m masks \u001b[34mMatrix\u001b[39m::expand()\n",
            "\u001b[31m✖\u001b[39m \u001b[34mdplyr\u001b[39m::\u001b[32mfilter()\u001b[39m masks \u001b[34mstats\u001b[39m::filter()\n",
            "\u001b[31m✖\u001b[39m \u001b[34mdplyr\u001b[39m::\u001b[32mlag()\u001b[39m    masks \u001b[34mstats\u001b[39m::lag()\n",
            "\u001b[31m✖\u001b[39m \u001b[34mtidyr\u001b[39m::\u001b[32mpack()\u001b[39m   masks \u001b[34mMatrix\u001b[39m::pack()\n",
            "\u001b[31m✖\u001b[39m \u001b[34mdplyr\u001b[39m::\u001b[32mrecode()\u001b[39m masks \u001b[34marules\u001b[39m::recode()\n",
            "\u001b[31m✖\u001b[39m \u001b[34mtidyr\u001b[39m::\u001b[32munpack()\u001b[39m masks \u001b[34mMatrix\u001b[39m::unpack()\n",
            "\n"
          ],
          "name": "stderr"
        }
      ]
    },
    {
      "cell_type": "markdown",
      "metadata": {
        "id": "YQw5fHAGHAUx"
      },
      "source": [
        "# 3. Loading and checking the data"
      ]
    },
    {
      "cell_type": "code",
      "metadata": {
        "id": "XDFYhbe8LCEY",
        "colab": {
          "base_uri": "https://localhost:8080/",
          "height": 118
        },
        "outputId": "af75f35e-e665-4958-b465-5d2c2df8fd59"
      },
      "source": [
        "# Reading the dataset\n",
        "\n",
        "Transactions<-read.transactions(\"Association.csv\", sep = \",\", rm.duplicates = TRUE)\n",
        "Transactions"
      ],
      "execution_count": 3,
      "outputs": [
        {
          "output_type": "stream",
          "text": [
            "distribution of transactions with duplicates:\n",
            "1 \n",
            "5 \n"
          ],
          "name": "stdout"
        },
        {
          "output_type": "display_data",
          "data": {
            "text/plain": [
              "transactions in sparse format with\n",
              " 7501 transactions (rows) and\n",
              " 119 items (columns)"
            ]
          },
          "metadata": {
            "tags": []
          }
        }
      ]
    },
    {
      "cell_type": "code",
      "metadata": {
        "colab": {
          "base_uri": "https://localhost:8080/",
          "height": 34
        },
        "id": "Yafar7kbLB4Q",
        "outputId": "5a6ca9ec-26f2-40c8-b53d-2fc84e219128"
      },
      "source": [
        "# Verifying the object's class\n",
        "\n",
        "class(Transactions)"
      ],
      "execution_count": 4,
      "outputs": [
        {
          "output_type": "display_data",
          "data": {
            "text/plain": [
              "[1] \"transactions\"\n",
              "attr(,\"package\")\n",
              "[1] \"arules\""
            ],
            "text/latex": "'transactions'",
            "text/markdown": "'transactions'",
            "text/html": [
              "'transactions'"
            ]
          },
          "metadata": {
            "tags": []
          }
        }
      ]
    },
    {
      "cell_type": "code",
      "metadata": {
        "colab": {
          "base_uri": "https://localhost:8080/"
        },
        "id": "qK7R1ruoLBw9",
        "outputId": "56d3b69e-d2da-4bae-9971-cb5383dc8b78"
      },
      "source": [
        "# Previewing our first 5 transactions\n",
        "\n",
        "inspect(Transactions[1:5])\n"
      ],
      "execution_count": 5,
      "outputs": [
        {
          "output_type": "stream",
          "text": [
            "    items              \n",
            "[1] {almonds,          \n",
            "     antioxydant juice,\n",
            "     avocado,          \n",
            "     cottage cheese,   \n",
            "     energy drink,     \n",
            "     frozen smoothie,  \n",
            "     green grapes,     \n",
            "     green tea,        \n",
            "     honey,            \n",
            "     low fat yogurt,   \n",
            "     mineral water,    \n",
            "     olive oil,        \n",
            "     salad,            \n",
            "     salmon,           \n",
            "     shrimp,           \n",
            "     spinach,          \n",
            "     tomato juice,     \n",
            "     vegetables mix,   \n",
            "     whole weat flour, \n",
            "     yams}             \n",
            "[2] {burgers,          \n",
            "     eggs,             \n",
            "     meatballs}        \n",
            "[3] {chutney}          \n",
            "[4] {avocado,          \n",
            "     turkey}           \n",
            "[5] {energy bar,       \n",
            "     green tea,        \n",
            "     milk,             \n",
            "     mineral water,    \n",
            "     whole wheat rice} \n"
          ],
          "name": "stdout"
        }
      ]
    },
    {
      "cell_type": "code",
      "metadata": {
        "colab": {
          "base_uri": "https://localhost:8080/",
          "height": 437
        },
        "id": "0xF1Db1yLBgF",
        "outputId": "4fee36b5-c366-4fee-fe5b-cb51b493da4a"
      },
      "source": [
        "# Getting a summary of the transactions\n",
        "\n",
        "summary(Transactions)\n",
        "\n",
        "# The transactions dataset has 7501 rows and 119 columns\n",
        "# The most frequent item is mineral water.\n",
        "# The longest itemset has 20 items. \n",
        "# Majority of the transactions have 1 item or element."
      ],
      "execution_count": 6,
      "outputs": [
        {
          "output_type": "display_data",
          "data": {
            "text/plain": [
              "transactions as itemMatrix in sparse format with\n",
              " 7501 rows (elements/itemsets/transactions) and\n",
              " 119 columns (items) and a density of 0.03288973 \n",
              "\n",
              "most frequent items:\n",
              "mineral water          eggs     spaghetti  french fries     chocolate \n",
              "         1788          1348          1306          1282          1229 \n",
              "      (Other) \n",
              "        22405 \n",
              "\n",
              "element (itemset/transaction) length distribution:\n",
              "sizes\n",
              "   1    2    3    4    5    6    7    8    9   10   11   12   13   14   15   16 \n",
              "1754 1358 1044  816  667  493  391  324  259  139  102   67   40   22   17    4 \n",
              "  18   19   20 \n",
              "   1    2    1 \n",
              "\n",
              "   Min. 1st Qu.  Median    Mean 3rd Qu.    Max. \n",
              "  1.000   2.000   3.000   3.914   5.000  20.000 \n",
              "\n",
              "includes extended item information - examples:\n",
              "             labels\n",
              "1           almonds\n",
              "2 antioxydant juice\n",
              "3         asparagus"
            ]
          },
          "metadata": {
            "tags": []
          }
        }
      ]
    },
    {
      "cell_type": "code",
      "metadata": {
        "colab": {
          "base_uri": "https://localhost:8080/",
          "height": 617
        },
        "id": "_ONJeDqwRFNR",
        "outputId": "383db7f4-6a9e-43b3-ee76-7a0456b3e099"
      },
      "source": [
        "# Plotting the most frequent items both with and without setting the support lower limit\n",
        "\n",
        "options(repr.plot.width = 15, repr.plot.height = 10)\n",
        "par(mfrow = c(1, 2))\n",
        "itemFrequencyPlot(Transactions, topN = 10,col=\"lightblue\", main = \"Frequency plot (default)\", cex = 1.5, cex.main= 1.75, cex.lab=1.5, cex.axis=1.2)\n",
        "itemFrequencyPlot(Transactions, support = 0.1,col=\"orange\", main = \"Frequency plot(supp=0.1)\", cex = 1.5, cex.main= 1.75, cex.lab=1.5, cex.axis=1.2)"
      ],
      "execution_count": 35,
      "outputs": [
        {
          "output_type": "display_data",
          "data": {
            "image/png": "[encoded data removed]",
            "text/plain": [
              "Plot with title “Frequency plot(supp=0.1)”"
            ]
          },
          "metadata": {
            "tags": [],
            "image/png": {
              "width": 900,
              "height": 600
            }
          }
        }
      ]
    },
    {
      "cell_type": "code",
      "metadata": {
        "colab": {
          "base_uri": "https://localhost:8080/",
          "height": 386
        },
        "id": "8MbyHVh9RDX1",
        "outputId": "f11da135-b477-42c4-9da6-383886dce5a6"
      },
      "source": [
        "# Building a model based on association rules using the apriori function\n",
        "# supp = 0.001, conf = 0.8\n",
        "\n",
        "rules <- apriori (Transactions, parameter = list(supp = 0.001, conf = 0.8))\n",
        "rules\n",
        "\n",
        "# We get a set of 74 rules"
      ],
      "execution_count": 15,
      "outputs": [
        {
          "output_type": "stream",
          "text": [
            "Apriori\n",
            "\n",
            "Parameter specification:\n",
            " confidence minval smax arem  aval originalSupport maxtime support minlen\n",
            "        0.8    0.1    1 none FALSE            TRUE       5   0.001      1\n",
            " maxlen target  ext\n",
            "     10  rules TRUE\n",
            "\n",
            "Algorithmic control:\n",
            " filter tree heap memopt load sort verbose\n",
            "    0.1 TRUE TRUE  FALSE TRUE    2    TRUE\n",
            "\n",
            "Absolute minimum support count: 7 \n",
            "\n",
            "set item appearances ...[0 item(s)] done [0.00s].\n",
            "set transactions ...[119 item(s), 7501 transaction(s)] done [0.00s].\n",
            "sorting and recoding items ... [116 item(s)] done [0.00s].\n",
            "creating transaction tree ... done [0.00s].\n",
            "checking subsets of size 1 2 3 4 5 6 done [0.01s].\n",
            "writing ... [74 rule(s)] done [0.00s].\n",
            "creating S4 object  ... done [0.00s].\n"
          ],
          "name": "stdout"
        },
        {
          "output_type": "display_data",
          "data": {
            "text/plain": [
              "set of 74 rules "
            ]
          },
          "metadata": {
            "tags": []
          }
        }
      ]
    },
    {
      "cell_type": "code",
      "metadata": {
        "colab": {
          "base_uri": "https://localhost:8080/",
          "height": 386
        },
        "id": "Q0phubCeg48n",
        "outputId": "2b7b7b3e-0ce5-4fc6-c85b-bc0913eecc97"
      },
      "source": [
        "# Building a model based on association rules using the apriori function\n",
        "# supp = 0.002, conf = 0.8\n",
        "\n",
        "rules1 <- apriori (Transactions, parameter = list(supp = 0.002, conf = 0.8))\n",
        "rules1\n",
        "\n",
        "# We get a set of only 2 rules"
      ],
      "execution_count": 16,
      "outputs": [
        {
          "output_type": "stream",
          "text": [
            "Apriori\n",
            "\n",
            "Parameter specification:\n",
            " confidence minval smax arem  aval originalSupport maxtime support minlen\n",
            "        0.8    0.1    1 none FALSE            TRUE       5   0.002      1\n",
            " maxlen target  ext\n",
            "     10  rules TRUE\n",
            "\n",
            "Algorithmic control:\n",
            " filter tree heap memopt load sort verbose\n",
            "    0.1 TRUE TRUE  FALSE TRUE    2    TRUE\n",
            "\n",
            "Absolute minimum support count: 15 \n",
            "\n",
            "set item appearances ...[0 item(s)] done [0.00s].\n",
            "set transactions ...[119 item(s), 7501 transaction(s)] done [0.00s].\n",
            "sorting and recoding items ... [115 item(s)] done [0.00s].\n",
            "creating transaction tree ... done [0.00s].\n",
            "checking subsets of size 1 2 3 4 5 done [0.00s].\n",
            "writing ... [2 rule(s)] done [0.00s].\n",
            "creating S4 object  ... done [0.00s].\n"
          ],
          "name": "stdout"
        },
        {
          "output_type": "display_data",
          "data": {
            "text/plain": [
              "set of 2 rules "
            ]
          },
          "metadata": {
            "tags": []
          }
        }
      ]
    },
    {
      "cell_type": "code",
      "metadata": {
        "colab": {
          "base_uri": "https://localhost:8080/",
          "height": 386
        },
        "id": "nHv60QnTg4xe",
        "outputId": "4f3100b5-24b8-486f-8dec-d5d80cae4e11"
      },
      "source": [
        "# Building a model based on association rules using the apriori function\n",
        "# supp = 0.001, conf = 0.6\n",
        "\n",
        "rules2 <- apriori (Transactions, parameter = list(supp = 0.001, conf = 0.6))\n",
        "rules2\n",
        "\n",
        "# We get a set of 545 rules which are way to many rules to work with.\n",
        "# So I will use the model that gave 74 rules(rules)."
      ],
      "execution_count": 17,
      "outputs": [
        {
          "output_type": "stream",
          "text": [
            "Apriori\n",
            "\n",
            "Parameter specification:\n",
            " confidence minval smax arem  aval originalSupport maxtime support minlen\n",
            "        0.6    0.1    1 none FALSE            TRUE       5   0.001      1\n",
            " maxlen target  ext\n",
            "     10  rules TRUE\n",
            "\n",
            "Algorithmic control:\n",
            " filter tree heap memopt load sort verbose\n",
            "    0.1 TRUE TRUE  FALSE TRUE    2    TRUE\n",
            "\n",
            "Absolute minimum support count: 7 \n",
            "\n",
            "set item appearances ...[0 item(s)] done [0.00s].\n",
            "set transactions ...[119 item(s), 7501 transaction(s)] done [0.00s].\n",
            "sorting and recoding items ... [116 item(s)] done [0.00s].\n",
            "creating transaction tree ... done [0.00s].\n",
            "checking subsets of size 1 2 3 4 5 6 done [0.01s].\n",
            "writing ... [545 rule(s)] done [0.00s].\n",
            "creating S4 object  ... done [0.00s].\n"
          ],
          "name": "stdout"
        },
        {
          "output_type": "display_data",
          "data": {
            "text/plain": [
              "set of 545 rules "
            ]
          },
          "metadata": {
            "tags": []
          }
        }
      ]
    },
    {
      "cell_type": "code",
      "metadata": {
        "colab": {
          "base_uri": "https://localhost:8080/"
        },
        "id": "EJ8PoqHYiBhm",
        "outputId": "24006d0f-184f-4a89-9314-d85968d70423"
      },
      "source": [
        "# Observing rules built in our model i.e. first 10 model rules\n",
        "\n",
        "inspect(rules[1:10])"
      ],
      "execution_count": 18,
      "outputs": [
        {
          "output_type": "stream",
          "text": [
            "     lhs                             rhs             support     confidence\n",
            "[1]  {frozen smoothie,spinach}    => {mineral water} 0.001066524 0.8888889 \n",
            "[2]  {bacon,pancakes}             => {spaghetti}     0.001733102 0.8125000 \n",
            "[3]  {nonfat milk,turkey}         => {mineral water} 0.001199840 0.8181818 \n",
            "[4]  {ground beef,nonfat milk}    => {mineral water} 0.001599787 0.8571429 \n",
            "[5]  {mushroom cream sauce,pasta} => {escalope}      0.002532996 0.9500000 \n",
            "[6]  {milk,pasta}                 => {shrimp}        0.001599787 0.8571429 \n",
            "[7]  {cooking oil,fromage blanc}  => {mineral water} 0.001199840 0.8181818 \n",
            "[8]  {black tea,salmon}           => {mineral water} 0.001066524 0.8000000 \n",
            "[9]  {black tea,frozen smoothie}  => {milk}          0.001199840 0.8181818 \n",
            "[10] {red wine,tomato sauce}      => {chocolate}     0.001066524 0.8000000 \n",
            "     coverage    lift      count\n",
            "[1]  0.001199840  3.729058  8   \n",
            "[2]  0.002133049  4.666587 13   \n",
            "[3]  0.001466471  3.432428  9   \n",
            "[4]  0.001866418  3.595877 12   \n",
            "[5]  0.002666311 11.976387 19   \n",
            "[6]  0.001866418 11.995203 12   \n",
            "[7]  0.001466471  3.432428  9   \n",
            "[8]  0.001333156  3.356152  8   \n",
            "[9]  0.001466471  6.313973  9   \n",
            "[10] 0.001333156  4.882669  8   \n"
          ],
          "name": "stdout"
        }
      ]
    },
    {
      "cell_type": "code",
      "metadata": {
        "colab": {
          "base_uri": "https://localhost:8080/"
        },
        "id": "vTbf562BiL_k",
        "outputId": "9d91d1e6-ec2d-4d92-e272-06b9fc1a13ed"
      },
      "source": [
        "# Inspecting the first 5 rules with the highest lift\n",
        "\n",
        "inspect(head(rules, n = 5, by = \"lift\"))"
      ],
      "execution_count": 19,
      "outputs": [
        {
          "output_type": "stream",
          "text": [
            "    lhs                       rhs                     support confidence    coverage      lift count\n",
            "[1] {eggs,                                                                                          \n",
            "     mineral water,                                                                                 \n",
            "     pasta}                => {shrimp}            0.001333156  0.9090909 0.001466471 12.722185    10\n",
            "[2] {french fries,                                                                                  \n",
            "     mushroom cream sauce,                                                                          \n",
            "     pasta}                => {escalope}          0.001066524  1.0000000 0.001066524 12.606723     8\n",
            "[3] {milk,                                                                                          \n",
            "     pasta}                => {shrimp}            0.001599787  0.8571429 0.001866418 11.995203    12\n",
            "[4] {mushroom cream sauce,                                                                          \n",
            "     pasta}                => {escalope}          0.002532996  0.9500000 0.002666311 11.976387    19\n",
            "[5] {chocolate,                                                                                     \n",
            "     ground beef,                                                                                   \n",
            "     milk,                                                                                          \n",
            "     mineral water,                                                                                 \n",
            "     spaghetti}            => {frozen vegetables} 0.001066524  0.8888889 0.001199840  9.325253     8\n"
          ],
          "name": "stdout"
        }
      ]
    },
    {
      "cell_type": "code",
      "metadata": {
        "colab": {
          "base_uri": "https://localhost:8080/"
        },
        "id": "ASR6aFaSjIk0",
        "outputId": "a227768d-ba49-42d1-f64b-f8844a46c009"
      },
      "source": [
        "# Inspecting the first 5 rules with the highest confidence\n",
        "\n",
        "inspect(head(rules, n = 5, by = \"confidence\"))"
      ],
      "execution_count": 20,
      "outputs": [
        {
          "output_type": "stream",
          "text": [
            "    lhs                                          rhs             support    \n",
            "[1] {french fries,mushroom cream sauce,pasta} => {escalope}      0.001066524\n",
            "[2] {ground beef,light cream,olive oil}       => {mineral water} 0.001199840\n",
            "[3] {cake,meatballs,mineral water}            => {milk}          0.001066524\n",
            "[4] {cake,olive oil,shrimp}                   => {mineral water} 0.001199840\n",
            "[5] {mushroom cream sauce,pasta}              => {escalope}      0.002532996\n",
            "    confidence coverage    lift      count\n",
            "[1] 1.00       0.001066524 12.606723  8   \n",
            "[2] 1.00       0.001199840  4.195190  9   \n",
            "[3] 1.00       0.001066524  7.717078  8   \n",
            "[4] 1.00       0.001199840  4.195190  9   \n",
            "[5] 0.95       0.002666311 11.976387 19   \n"
          ],
          "name": "stdout"
        }
      ]
    },
    {
      "cell_type": "code",
      "metadata": {
        "colab": {
          "base_uri": "https://localhost:8080/",
          "height": 67
        },
        "id": "HEN1lSVGd225",
        "outputId": "2d997e6f-74cf-42b0-b777-9eb7a40fe1ca"
      },
      "source": [
        "# Looking at the least popular transactions\n",
        "\n",
        "itm <- itemFrequency(Transactions, type = \"relative\")\n",
        "head(sort(itm), n = 10)"
      ],
      "execution_count": 14,
      "outputs": [
        {
          "output_type": "display_data",
          "data": {
            "text/plain": [
              "    water spray         napkins           cream         bramble             tea \n",
              "   0.0003999467    0.0006665778    0.0009332089    0.0018664178    0.0038661512 \n",
              "        chutney   mashed potato chocolate bread    dessert wine         ketchup \n",
              "   0.0041327823    0.0041327823    0.0042660979    0.0043994134    0.0043994134 "
            ],
            "text/latex": "\\begin{description*}\n\\item[water spray] 0.00039994667377683\n\\item[napkins] 0.00066657778962805\n\\item[cream] 0.000933208905479269\n\\item[bramble] 0.00186641781095854\n\\item[tea] 0.00386615117984269\n\\item[chutney] 0.00413278229569391\n\\item[mashed potato] 0.00413278229569391\n\\item[chocolate bread] 0.00426609785361952\n\\item[dessert wine] 0.00439941341154513\n\\item[ketchup] 0.00439941341154513\n\\end{description*}\n",
            "text/markdown": "water spray\n:   0.00039994667377683napkins\n:   0.00066657778962805cream\n:   0.000933208905479269bramble\n:   0.00186641781095854tea\n:   0.00386615117984269chutney\n:   0.00413278229569391mashed potato\n:   0.00413278229569391chocolate bread\n:   0.00426609785361952dessert wine\n:   0.00439941341154513ketchup\n:   0.00439941341154513\n\n",
            "text/html": [
              "<style>\n",
              ".dl-inline {width: auto; margin:0; padding: 0}\n",
              ".dl-inline>dt, .dl-inline>dd {float: none; width: auto; display: inline-block}\n",
              ".dl-inline>dt::after {content: \":\\0020\"; padding-right: .5ex}\n",
              ".dl-inline>dt:not(:first-of-type) {padding-left: .5ex}\n",
              "</style><dl class=dl-inline><dt>water spray</dt><dd>0.00039994667377683</dd><dt>napkins</dt><dd>0.00066657778962805</dd><dt>cream</dt><dd>0.000933208905479269</dd><dt>bramble</dt><dd>0.00186641781095854</dd><dt>tea</dt><dd>0.00386615117984269</dd><dt>chutney</dt><dd>0.00413278229569391</dd><dt>mashed potato</dt><dd>0.00413278229569391</dd><dt>chocolate bread</dt><dd>0.00426609785361952</dd><dt>dessert wine</dt><dd>0.00439941341154513</dd><dt>ketchup</dt><dd>0.00439941341154513</dd></dl>\n"
            ]
          },
          "metadata": {
            "tags": []
          }
        }
      ]
    },
    {
      "cell_type": "code",
      "metadata": {
        "colab": {
          "base_uri": "https://localhost:8080/"
        },
        "id": "D6t68OxdetSa",
        "outputId": "d4d0165c-75fd-467a-b922-5c1d6c473cb9"
      },
      "source": [
        "# We may want to make a promotion to increase the sale of Tea\n",
        "# Let us look at what people buy after buying tea\n",
        "\n",
        "tea = subset(rules, subset = lhs %pin% \"tea\")\n",
        "\n",
        "# Then order by confidence\n",
        "tea = sort(tea, by=\"confidence\", decreasing=TRUE)\n",
        "inspect(tea[1:5])\n"
      ],
      "execution_count": 23,
      "outputs": [
        {
          "output_type": "stream",
          "text": [
            "    lhs                                     rhs             support    \n",
            "[1] {black tea,spaghetti,turkey}         => {eggs}          0.001066524\n",
            "[2] {green tea,ground beef,tomato sauce} => {spaghetti}     0.001333156\n",
            "[3] {black tea,frozen smoothie}          => {milk}          0.001199840\n",
            "[4] {black tea,salmon}                   => {mineral water} 0.001066524\n",
            "[5] {cookies,green tea,milk}             => {french fries}  0.001066524\n",
            "    confidence coverage    lift     count\n",
            "[1] 0.8888889  0.001199840 4.946258  8   \n",
            "[2] 0.8333333  0.001599787 4.786243 10   \n",
            "[3] 0.8181818  0.001466471 6.313973  9   \n",
            "[4] 0.8000000  0.001333156 3.356152  8   \n",
            "[5] 0.8000000  0.001333156 4.680811  8   \n"
          ],
          "name": "stdout"
        }
      ]
    },
    {
      "cell_type": "code",
      "metadata": {
        "colab": {
          "base_uri": "https://localhost:8080/",
          "height": 336
        },
        "id": "odhgX3sjgNsG",
        "outputId": "5510fa4c-8fa7-421f-fd87-5e7e093473a8"
      },
      "source": [
        "# We may want to make a promotion to increase the sale of ground beef\n",
        "# Let us look at what people buy after buying ground beef\n",
        "\n",
        "beef = subset(rules, subset = lhs %pin% \"ground beef\")\n",
        "beef\n",
        "\n",
        "# Then order by confidence\n",
        "beef = sort(beef, by=\"confidence\", decreasing=TRUE)\n",
        "inspect(beef[1:5])"
      ],
      "execution_count": 34,
      "outputs": [
        {
          "output_type": "display_data",
          "data": {
            "text/plain": [
              "set of 12 rules "
            ]
          },
          "metadata": {
            "tags": []
          }
        },
        {
          "output_type": "stream",
          "text": [
            "    lhs                   rhs                     support confidence    coverage     lift count\n",
            "[1] {ground beef,                                                                              \n",
            "     light cream,                                                                              \n",
            "     olive oil}        => {mineral water}     0.001199840  1.0000000 0.001199840 4.195190     9\n",
            "[2] {ground beef,                                                                              \n",
            "     pancakes,                                                                                 \n",
            "     whole wheat rice} => {mineral water}     0.001333156  0.9090909 0.001466471 3.813809    10\n",
            "[3] {brownies,                                                                                 \n",
            "     eggs,                                                                                     \n",
            "     ground beef}      => {mineral water}     0.001066524  0.8888889 0.001199840 3.729058     8\n",
            "[4] {ground beef,                                                                              \n",
            "     salmon,                                                                                   \n",
            "     shrimp}           => {spaghetti}         0.001066524  0.8888889 0.001199840 5.105326     8\n",
            "[5] {chocolate,                                                                                \n",
            "     ground beef,                                                                              \n",
            "     milk,                                                                                     \n",
            "     mineral water,                                                                            \n",
            "     spaghetti}        => {frozen vegetables} 0.001066524  0.8888889 0.001199840 9.325253     8\n"
          ],
          "name": "stdout"
        }
      ]
    },
    {
      "cell_type": "markdown",
      "metadata": {
        "id": "fRXVjEilJV4S"
      },
      "source": [
        "# 4. Insights\n",
        "\n",
        "The insights that can be made from the analysis are as follows:\n",
        "\n",
        "- The three most frequently bought items are mineral water, eggs and spaghetti.\n",
        "\n",
        "- The 3 least frequently bought items are water spray, napkins and cream. Tea is also among the least frequently purchased items.\n",
        "\n",
        "- Ground beef, frozen vegetabls and pancakes fell off the most frequently bought items list after support was set to 0.1."
      ]
    },
    {
      "cell_type": "markdown",
      "metadata": {
        "id": "4afpprHzJe9v"
      },
      "source": [
        "# 5. Recommendations\n",
        "\n",
        "In light of the above insights, the following recommendations can be made:\n",
        "\n",
        "- To increase the sale of tea, there could be a promotion where tea is sold with milk, eggs or cookies.\n",
        "\n",
        "- To increase the sale of ground beef, an offer can be given where ground beef us sold with say, a free bottle of mineral water.\n",
        "\n"
      ]
    }
  ]
}