{
  "nbformat": 4,
  "nbformat_minor": 0,
  "metadata": {
    "colab": {
      "name": "Anomaly Detection with R",
      "provenance": [],
      "toc_visible": true,
      "authorship_tag": "ABX9TyMdOrROz25NwtzlKI+H6OHY",
      "include_colab_link": true
    },
    "kernelspec": {
      "name": "ir",
      "display_name": "R"
    },
    "language_info": {
      "name": "R"
    }
  },
  "cells": [
    {
      "cell_type": "markdown",
      "metadata": {
        "id": "view-in-github",
        "colab_type": "text"
      },
      "source": [
        "<a href=\"https://colab.research.google.com/github/Ciiku-Kihara/PCA-ANOMALY-DETECTION-AND-ASSOCIATION-ANALYSIS-WITH-R/blob/main/Anomaly_Detection_with_R.ipynb\" target=\"_parent\"><img src=\"https://colab.research.google.com/assets/colab-badge.svg\" alt=\"Open In Colab\"/></a>"
      ]
    },
    {
      "cell_type": "markdown",
      "metadata": {
        "id": "8CpsgpJbLdQz"
      },
      "source": [
        "# Anomaly Detection with R\n",
        "\n",
        "\n"
      ]
    },
    {
      "cell_type": "markdown",
      "metadata": {
        "id": "33NE-8v8CmsW"
      },
      "source": [
        "## a) Defining the analysis question\n",
        "\n",
        "You are a Data analyst at Carrefour Kenya and are currently undertaking a project that will inform the marketing department on the most relevant marketing strategies that will result in the highest no. of sales (total price including tax).\n",
        "\n",
        "I am expected to detect any anomalies in sales"
      ]
    },
    {
      "cell_type": "markdown",
      "metadata": {
        "id": "wZSZp22JCm_d"
      },
      "source": [
        "## b) Defining the metric for success\n",
        "\n",
        "Be able to effectively identify anomalies in sales in the data provided"
      ]
    },
    {
      "cell_type": "markdown",
      "metadata": {
        "id": "HVy3K5fwCng1"
      },
      "source": [
        "## c) Understanding the context\n",
        "\n",
        "Carrefour was launched in the region in 1995 by UAE-based Majid Al Futtaim, which is the exclusive franchisee to operate Carrefour in over 30 countries across the Middle East, Africa, and Asia, and fully owns the operations in the region. Today, Majid Al Futtaim operates over 320 Carrefour stores in 16 countries, serving more than 750,000 customers daily and employing over 37,000 colleagues.\n",
        "\n",
        "Carrefour operates different store formats, as well as multiple online offerings to meet the growing needs of its diversified customer base. In line with the brand’s commitment to provide the widest range of quality products and value for money, Carrefour offers an unrivalled choice of more than 500,000 food and non-food products, and a locally inspired exemplary customer experience to create great moments for everyone every day."
      ]
    },
    {
      "cell_type": "markdown",
      "metadata": {
        "id": "9jEWKlBsCnu1"
      },
      "source": [
        "## d) Recording the experimental design\n",
        "\n",
        "- Problem Definition\n",
        "- Anomaly Detection\n",
        "- Provide insights based on my analysis\n",
        "- Provide recommendations\n"
      ]
    },
    {
      "cell_type": "markdown",
      "metadata": {
        "id": "xVfDopdICn9E"
      },
      "source": [
        "## e) Data Relevance\n",
        "\n",
        "The dataset adequate to apply anomaly detection techniques"
      ]
    },
    {
      "cell_type": "markdown",
      "metadata": {
        "id": "LukZafoZCoLo"
      },
      "source": [
        "# 2. Installing and importing relevant libraries"
      ]
    },
    {
      "cell_type": "code",
      "metadata": {
        "colab": {
          "base_uri": "https://localhost:8080/"
        },
        "id": "UlqxFNG7JqqB",
        "outputId": "314a42d3-ec81-439a-86c6-239a3e07011a"
      },
      "source": [
        "# Installing the necessary packages\n",
        "\n",
        "install.packages(c(\"anomalize\", \"tidyverse\", \"tibbletime\", \"timetk\"))\n"
      ],
      "execution_count": null,
      "outputs": [
        {
          "output_type": "stream",
          "text": [
            "Installing packages into ‘/usr/local/lib/R/site-library’\n",
            "(as ‘lib’ is unspecified)\n",
            "\n",
            "also installing the dependencies ‘numDeriv’, ‘SQUAREM’, ‘lava’, ‘listenv’, ‘parallelly’, ‘TTR’, ‘prodlim’, ‘future’, ‘globals’, ‘later’, ‘quadprog’, ‘quantmod’, ‘gower’, ‘ipred’, ‘furrr’, ‘htmlwidgets’, ‘lazyeval’, ‘crosstalk’, ‘promises’, ‘warp’, ‘fracdiff’, ‘lmtest’, ‘tseries’, ‘urca’, ‘RcppArmadillo’, ‘sweep’, ‘zoo’, ‘recipes’, ‘rsample’, ‘plotly’, ‘padr’, ‘xts’, ‘slider’, ‘anytime’, ‘timeDate’, ‘forecast’\n",
            "\n",
            "\n"
          ],
          "name": "stderr"
        }
      ]
    },
    {
      "cell_type": "code",
      "metadata": {
        "colab": {
          "base_uri": "https://localhost:8080/"
        },
        "id": "UtGcf6GNKqIz",
        "outputId": "768642f4-9f07-445a-869e-e503310b455c"
      },
      "source": [
        "# Loading the libraries\n",
        "\n",
        "library(anomalize)\n",
        "library(tidyverse)\n",
        "library(tibbletime)\n",
        "library(timetk)"
      ],
      "execution_count": null,
      "outputs": [
        {
          "output_type": "stream",
          "text": [
            "\u001b[30m══\u001b[39m \u001b[30mUse anomalize to improve your Forecasts by 50%!\u001b[39m \u001b[30m═════════════════════════════\u001b[39m\u001b[34m\n",
            "Business Science offers a 1-hour course - Lab #18: Time Series Anomaly Detection!\n",
            "\u001b[39m\u001b[34m</> Learn more at: https://university.business-science.io/p/learning-labs-pro </>\u001b[39m\n",
            "\n",
            "Warning message in system(\"timedatectl\", intern = TRUE):\n",
            "“running command 'timedatectl' had status 1”\n",
            "── \u001b[1mAttaching packages\u001b[22m ─────────────────────────────────────── tidyverse 1.3.1 ──\n",
            "\n",
            "\u001b[32m✔\u001b[39m \u001b[34mggplot2\u001b[39m 3.3.3     \u001b[32m✔\u001b[39m \u001b[34mpurrr  \u001b[39m 0.3.4\n",
            "\u001b[32m✔\u001b[39m \u001b[34mtibble \u001b[39m 3.1.2     \u001b[32m✔\u001b[39m \u001b[34mdplyr  \u001b[39m 1.0.6\n",
            "\u001b[32m✔\u001b[39m \u001b[34mtidyr  \u001b[39m 1.1.3     \u001b[32m✔\u001b[39m \u001b[34mstringr\u001b[39m 1.4.0\n",
            "\u001b[32m✔\u001b[39m \u001b[34mreadr  \u001b[39m 1.4.0     \u001b[32m✔\u001b[39m \u001b[34mforcats\u001b[39m 0.5.1\n",
            "\n",
            "── \u001b[1mConflicts\u001b[22m ────────────────────────────────────────── tidyverse_conflicts() ──\n",
            "\u001b[31m✖\u001b[39m \u001b[34mdplyr\u001b[39m::\u001b[32mfilter()\u001b[39m masks \u001b[34mstats\u001b[39m::filter()\n",
            "\u001b[31m✖\u001b[39m \u001b[34mdplyr\u001b[39m::\u001b[32mlag()\u001b[39m    masks \u001b[34mstats\u001b[39m::lag()\n",
            "\n",
            "\n",
            "Attaching package: ‘tibbletime’\n",
            "\n",
            "\n",
            "The following object is masked from ‘package:stats’:\n",
            "\n",
            "    filter\n",
            "\n",
            "\n"
          ],
          "name": "stderr"
        }
      ]
    },
    {
      "cell_type": "markdown",
      "metadata": {
        "id": "YQw5fHAGHAUx"
      },
      "source": [
        "# 3. Loading and checking the data"
      ]
    },
    {
      "cell_type": "code",
      "metadata": {
        "id": "XDFYhbe8LCEY"
      },
      "source": [
        "# Reading the dataset\n",
        "\n",
        "ano = read.csv(\"Anomaly.csv\")"
      ],
      "execution_count": null,
      "outputs": []
    },
    {
      "cell_type": "code",
      "metadata": {
        "colab": {
          "base_uri": "https://localhost:8080/",
          "height": 282
        },
        "id": "Yafar7kbLB4Q",
        "outputId": "caaf19ff-2951-44e7-db4b-2d30b6446147"
      },
      "source": [
        "# Loading the first 6 rows of the dataset\n",
        "\n",
        "head(ano)"
      ],
      "execution_count": null,
      "outputs": [
        {
          "output_type": "display_data",
          "data": {
            "text/plain": [
              "  Date      Sales   \n",
              "1 1/5/2019  548.9715\n",
              "2 3/8/2019   80.2200\n",
              "3 3/3/2019  340.5255\n",
              "4 1/27/2019 489.0480\n",
              "5 2/8/2019  634.3785\n",
              "6 3/25/2019 627.6165"
            ],
            "text/latex": "A data.frame: 6 × 2\n\\begin{tabular}{r|ll}\n  & Date & Sales\\\\\n  & <chr> & <dbl>\\\\\n\\hline\n\t1 & 1/5/2019  & 548.9715\\\\\n\t2 & 3/8/2019  &  80.2200\\\\\n\t3 & 3/3/2019  & 340.5255\\\\\n\t4 & 1/27/2019 & 489.0480\\\\\n\t5 & 2/8/2019  & 634.3785\\\\\n\t6 & 3/25/2019 & 627.6165\\\\\n\\end{tabular}\n",
            "text/markdown": "\nA data.frame: 6 × 2\n\n| <!--/--> | Date &lt;chr&gt; | Sales &lt;dbl&gt; |\n|---|---|---|\n| 1 | 1/5/2019  | 548.9715 |\n| 2 | 3/8/2019  |  80.2200 |\n| 3 | 3/3/2019  | 340.5255 |\n| 4 | 1/27/2019 | 489.0480 |\n| 5 | 2/8/2019  | 634.3785 |\n| 6 | 3/25/2019 | 627.6165 |\n\n",
            "text/html": [
              "<table class=\"dataframe\">\n",
              "<caption>A data.frame: 6 × 2</caption>\n",
              "<thead>\n",
              "\t<tr><th></th><th scope=col>Date</th><th scope=col>Sales</th></tr>\n",
              "\t<tr><th></th><th scope=col>&lt;chr&gt;</th><th scope=col>&lt;dbl&gt;</th></tr>\n",
              "</thead>\n",
              "<tbody>\n",
              "\t<tr><th scope=row>1</th><td>1/5/2019 </td><td>548.9715</td></tr>\n",
              "\t<tr><th scope=row>2</th><td>3/8/2019 </td><td> 80.2200</td></tr>\n",
              "\t<tr><th scope=row>3</th><td>3/3/2019 </td><td>340.5255</td></tr>\n",
              "\t<tr><th scope=row>4</th><td>1/27/2019</td><td>489.0480</td></tr>\n",
              "\t<tr><th scope=row>5</th><td>2/8/2019 </td><td>634.3785</td></tr>\n",
              "\t<tr><th scope=row>6</th><td>3/25/2019</td><td>627.6165</td></tr>\n",
              "</tbody>\n",
              "</table>\n"
            ]
          },
          "metadata": {
            "tags": []
          }
        }
      ]
    },
    {
      "cell_type": "code",
      "metadata": {
        "colab": {
          "base_uri": "https://localhost:8080/",
          "height": 34
        },
        "id": "qK7R1ruoLBw9",
        "outputId": "83c9ad5c-13c8-4f7a-a159-c25d06eecbe7"
      },
      "source": [
        "# Obtaining the dimensions of the dataset\n",
        "\n",
        "dim(ano)\n",
        "\n",
        "# The dataset has 1000 rows and 2 columns"
      ],
      "execution_count": null,
      "outputs": [
        {
          "output_type": "display_data",
          "data": {
            "text/plain": [
              "[1] 1000    2"
            ],
            "text/latex": "\\begin{enumerate*}\n\\item 1000\n\\item 2\n\\end{enumerate*}\n",
            "text/markdown": "1. 1000\n2. 2\n\n\n",
            "text/html": [
              "<style>\n",
              ".list-inline {list-style: none; margin:0; padding: 0}\n",
              ".list-inline>li {display: inline-block}\n",
              ".list-inline>li:not(:last-child)::after {content: \"\\00b7\"; padding: 0 .5ex}\n",
              "</style>\n",
              "<ol class=list-inline><li>1000</li><li>2</li></ol>\n"
            ]
          },
          "metadata": {
            "tags": []
          }
        }
      ]
    },
    {
      "cell_type": "code",
      "metadata": {
        "colab": {
          "base_uri": "https://localhost:8080/"
        },
        "id": "0xF1Db1yLBgF",
        "outputId": "31be841f-6fc5-4c98-f7d4-299db3725c3d"
      },
      "source": [
        "# Getting a glimpse of the structure of the dataset\n",
        "\n",
        "str(ano)\n",
        "\n",
        "# Of the 2 columns, 1 is an integer and the other is type character"
      ],
      "execution_count": null,
      "outputs": [
        {
          "output_type": "stream",
          "text": [
            "'data.frame':\t1000 obs. of  2 variables:\n",
            " $ Date : chr  \"1/5/2019\" \"3/8/2019\" \"3/3/2019\" \"1/27/2019\" ...\n",
            " $ Sales: num  549 80.2 340.5 489 634.4 ...\n"
          ],
          "name": "stdout"
        }
      ]
    },
    {
      "cell_type": "code",
      "metadata": {
        "colab": {
          "base_uri": "https://localhost:8080/",
          "height": 34
        },
        "id": "_ONJeDqwRFNR",
        "outputId": "f9ff4c3b-0e4e-4528-c616-178bcdba6c9a"
      },
      "source": [
        "# Checking for duplicates\n",
        "\n",
        "sum(duplicated(ano))\n",
        "\n",
        "# There are no duplicated records in the dataset"
      ],
      "execution_count": null,
      "outputs": [
        {
          "output_type": "display_data",
          "data": {
            "text/plain": [
              "[1] 0"
            ],
            "text/latex": "0",
            "text/markdown": "0",
            "text/html": [
              "0"
            ]
          },
          "metadata": {
            "tags": []
          }
        }
      ]
    },
    {
      "cell_type": "code",
      "metadata": {
        "colab": {
          "base_uri": "https://localhost:8080/",
          "height": 34
        },
        "id": "8MbyHVh9RDX1",
        "outputId": "5d094d28-b906-4d9b-9682-5fe25a51b5a3"
      },
      "source": [
        "# Checking for null values\n",
        "\n",
        "colSums(is.na(ano))\n",
        "\n",
        "# There are no null values in the dataset"
      ],
      "execution_count": null,
      "outputs": [
        {
          "output_type": "display_data",
          "data": {
            "text/plain": [
              " Date Sales \n",
              "    0     0 "
            ],
            "text/latex": "\\begin{description*}\n\\item[Date] 0\n\\item[Sales] 0\n\\end{description*}\n",
            "text/markdown": "Date\n:   0Sales\n:   0\n\n",
            "text/html": [
              "<style>\n",
              ".dl-inline {width: auto; margin:0; padding: 0}\n",
              ".dl-inline>dt, .dl-inline>dd {float: none; width: auto; display: inline-block}\n",
              ".dl-inline>dt::after {content: \":\\0020\"; padding-right: .5ex}\n",
              ".dl-inline>dt:not(:first-of-type) {padding-left: .5ex}\n",
              "</style><dl class=dl-inline><dt>Date</dt><dd>0</dd><dt>Sales</dt><dd>0</dd></dl>\n"
            ]
          },
          "metadata": {
            "tags": []
          }
        }
      ]
    },
    {
      "cell_type": "code",
      "metadata": {
        "colab": {
          "base_uri": "https://localhost:8080/",
          "height": 530
        },
        "id": "KysO_YLF7VFl",
        "outputId": "64c8f5cc-e696-406e-ba36-b866a67395e4"
      },
      "source": [
        "# Analysis of the sales column\n",
        "\n",
        "options(repr.plot.width = 8, repr.plot.height = 8)\n",
        "p = ano %>% ggplot(aes(x = Sales))\n",
        "\n",
        "p + geom_histogram(color=\"darkblue\", fill=\"lightblue\" ) +\n",
        "    labs(title = \"Histogram of Sales\", x = \"Sales\", y = \"Count\") +\n",
        "    theme(axis.text = element_text(size=18),\n",
        "          axis.title = element_text(size = 18),\n",
        "          plot.title = element_text(hjust = 0.5, size = 22))"
      ],
      "execution_count": null,
      "outputs": [
        {
          "output_type": "stream",
          "text": [
            "`stat_bin()` using `bins = 30`. Pick better value with `binwidth`.\n",
            "\n"
          ],
          "name": "stderr"
        },
        {
          "output_type": "display_data",
          "data": {
            "image/png": "[encoded data removed]",
            "text/plain": [
              "plot without title"
            ]
          },
          "metadata": {
            "tags": [],
            "image/png": {
              "width": 480,
              "height": 480
            }
          }
        }
      ]
    },
    {
      "cell_type": "markdown",
      "metadata": {
        "id": "paE0VtQoJE0b"
      },
      "source": [
        "# 4. Implement the solution"
      ]
    },
    {
      "cell_type": "code",
      "metadata": {
        "id": "kdEat5jVIogS"
      },
      "source": [
        "# Changing the date to date column'\n",
        "\n",
        "ano$Date <- as.Date(ano$Date,format = \"%m/%d/%y\")"
      ],
      "execution_count": null,
      "outputs": []
    },
    {
      "cell_type": "code",
      "metadata": {
        "colab": {
          "base_uri": "https://localhost:8080/",
          "height": 282
        },
        "id": "yOJbrJ8iJMne",
        "outputId": "31a53206-bd8c-4403-d304-ea90366f25c6"
      },
      "source": [
        "head(ano)"
      ],
      "execution_count": null,
      "outputs": [
        {
          "output_type": "display_data",
          "data": {
            "text/plain": [
              "  Date       Sales   \n",
              "1 2020-01-05 548.9715\n",
              "2 2020-03-08  80.2200\n",
              "3 2020-03-03 340.5255\n",
              "4 2020-01-27 489.0480\n",
              "5 2020-02-08 634.3785\n",
              "6 2020-03-25 627.6165"
            ],
            "text/latex": "A data.frame: 6 × 2\n\\begin{tabular}{r|ll}\n  & Date & Sales\\\\\n  & <date> & <dbl>\\\\\n\\hline\n\t1 & 2020-01-05 & 548.9715\\\\\n\t2 & 2020-03-08 &  80.2200\\\\\n\t3 & 2020-03-03 & 340.5255\\\\\n\t4 & 2020-01-27 & 489.0480\\\\\n\t5 & 2020-02-08 & 634.3785\\\\\n\t6 & 2020-03-25 & 627.6165\\\\\n\\end{tabular}\n",
            "text/markdown": "\nA data.frame: 6 × 2\n\n| <!--/--> | Date &lt;date&gt; | Sales &lt;dbl&gt; |\n|---|---|---|\n| 1 | 2020-01-05 | 548.9715 |\n| 2 | 2020-03-08 |  80.2200 |\n| 3 | 2020-03-03 | 340.5255 |\n| 4 | 2020-01-27 | 489.0480 |\n| 5 | 2020-02-08 | 634.3785 |\n| 6 | 2020-03-25 | 627.6165 |\n\n",
            "text/html": [
              "<table class=\"dataframe\">\n",
              "<caption>A data.frame: 6 × 2</caption>\n",
              "<thead>\n",
              "\t<tr><th></th><th scope=col>Date</th><th scope=col>Sales</th></tr>\n",
              "\t<tr><th></th><th scope=col>&lt;date&gt;</th><th scope=col>&lt;dbl&gt;</th></tr>\n",
              "</thead>\n",
              "<tbody>\n",
              "\t<tr><th scope=row>1</th><td>2020-01-05</td><td>548.9715</td></tr>\n",
              "\t<tr><th scope=row>2</th><td>2020-03-08</td><td> 80.2200</td></tr>\n",
              "\t<tr><th scope=row>3</th><td>2020-03-03</td><td>340.5255</td></tr>\n",
              "\t<tr><th scope=row>4</th><td>2020-01-27</td><td>489.0480</td></tr>\n",
              "\t<tr><th scope=row>5</th><td>2020-02-08</td><td>634.3785</td></tr>\n",
              "\t<tr><th scope=row>6</th><td>2020-03-25</td><td>627.6165</td></tr>\n",
              "</tbody>\n",
              "</table>\n"
            ]
          },
          "metadata": {
            "tags": []
          }
        }
      ]
    },
    {
      "cell_type": "code",
      "metadata": {
        "colab": {
          "base_uri": "https://localhost:8080/",
          "height": 282
        },
        "id": "w30kGba3F99n",
        "outputId": "0a5cbf5e-9bb3-4a55-bf74-376b86a8a228"
      },
      "source": [
        "# Ordering the date column\n",
        "\n",
        "ano1  = ano[order(ano$Date), ]     \n",
        "head(ano1) "
      ],
      "execution_count": null,
      "outputs": [
        {
          "output_type": "display_data",
          "data": {
            "text/plain": [
              "    Date       Sales  \n",
              "18  2020-01-01 457.443\n",
              "246 2020-01-01 399.756\n",
              "451 2020-01-01 470.673\n",
              "485 2020-01-01 388.290\n",
              "497 2020-01-01 132.762\n",
              "524 2020-01-01 132.027"
            ],
            "text/latex": "A data.frame: 6 × 2\n\\begin{tabular}{r|ll}\n  & Date & Sales\\\\\n  & <date> & <dbl>\\\\\n\\hline\n\t18 & 2020-01-01 & 457.443\\\\\n\t246 & 2020-01-01 & 399.756\\\\\n\t451 & 2020-01-01 & 470.673\\\\\n\t485 & 2020-01-01 & 388.290\\\\\n\t497 & 2020-01-01 & 132.762\\\\\n\t524 & 2020-01-01 & 132.027\\\\\n\\end{tabular}\n",
            "text/markdown": "\nA data.frame: 6 × 2\n\n| <!--/--> | Date &lt;date&gt; | Sales &lt;dbl&gt; |\n|---|---|---|\n| 18 | 2020-01-01 | 457.443 |\n| 246 | 2020-01-01 | 399.756 |\n| 451 | 2020-01-01 | 470.673 |\n| 485 | 2020-01-01 | 388.290 |\n| 497 | 2020-01-01 | 132.762 |\n| 524 | 2020-01-01 | 132.027 |\n\n",
            "text/html": [
              "<table class=\"dataframe\">\n",
              "<caption>A data.frame: 6 × 2</caption>\n",
              "<thead>\n",
              "\t<tr><th></th><th scope=col>Date</th><th scope=col>Sales</th></tr>\n",
              "\t<tr><th></th><th scope=col>&lt;date&gt;</th><th scope=col>&lt;dbl&gt;</th></tr>\n",
              "</thead>\n",
              "<tbody>\n",
              "\t<tr><th scope=row>18</th><td>2020-01-01</td><td>457.443</td></tr>\n",
              "\t<tr><th scope=row>246</th><td>2020-01-01</td><td>399.756</td></tr>\n",
              "\t<tr><th scope=row>451</th><td>2020-01-01</td><td>470.673</td></tr>\n",
              "\t<tr><th scope=row>485</th><td>2020-01-01</td><td>388.290</td></tr>\n",
              "\t<tr><th scope=row>497</th><td>2020-01-01</td><td>132.762</td></tr>\n",
              "\t<tr><th scope=row>524</th><td>2020-01-01</td><td>132.027</td></tr>\n",
              "</tbody>\n",
              "</table>\n"
            ]
          },
          "metadata": {
            "tags": []
          }
        }
      ]
    },
    {
      "cell_type": "code",
      "metadata": {
        "colab": {
          "base_uri": "https://localhost:8080/",
          "height": 282
        },
        "id": "mKKA2zycLY9K",
        "outputId": "c0da1de6-2a09-4970-ba0a-dd7455e8d355"
      },
      "source": [
        "# Aggreagate the Sales by date\n",
        "\n",
        "ano2 = aggregate(ano1[\"Sales\"], by=list(ano1$Date), sum)\n",
        "head(ano2)"
      ],
      "execution_count": null,
      "outputs": [
        {
          "output_type": "display_data",
          "data": {
            "text/plain": [
              "  Group.1    Sales   \n",
              "1 2020-01-01 4745.181\n",
              "2 2020-01-02 1945.503\n",
              "3 2020-01-03 2078.128\n",
              "4 2020-01-04 1623.688\n",
              "5 2020-01-05 3536.684\n",
              "6 2020-01-06 3614.205"
            ],
            "text/latex": "A data.frame: 6 × 2\n\\begin{tabular}{r|ll}\n  & Group.1 & Sales\\\\\n  & <date> & <dbl>\\\\\n\\hline\n\t1 & 2020-01-01 & 4745.181\\\\\n\t2 & 2020-01-02 & 1945.503\\\\\n\t3 & 2020-01-03 & 2078.128\\\\\n\t4 & 2020-01-04 & 1623.688\\\\\n\t5 & 2020-01-05 & 3536.684\\\\\n\t6 & 2020-01-06 & 3614.205\\\\\n\\end{tabular}\n",
            "text/markdown": "\nA data.frame: 6 × 2\n\n| <!--/--> | Group.1 &lt;date&gt; | Sales &lt;dbl&gt; |\n|---|---|---|\n| 1 | 2020-01-01 | 4745.181 |\n| 2 | 2020-01-02 | 1945.503 |\n| 3 | 2020-01-03 | 2078.128 |\n| 4 | 2020-01-04 | 1623.688 |\n| 5 | 2020-01-05 | 3536.684 |\n| 6 | 2020-01-06 | 3614.205 |\n\n",
            "text/html": [
              "<table class=\"dataframe\">\n",
              "<caption>A data.frame: 6 × 2</caption>\n",
              "<thead>\n",
              "\t<tr><th></th><th scope=col>Group.1</th><th scope=col>Sales</th></tr>\n",
              "\t<tr><th></th><th scope=col>&lt;date&gt;</th><th scope=col>&lt;dbl&gt;</th></tr>\n",
              "</thead>\n",
              "<tbody>\n",
              "\t<tr><th scope=row>1</th><td>2020-01-01</td><td>4745.181</td></tr>\n",
              "\t<tr><th scope=row>2</th><td>2020-01-02</td><td>1945.503</td></tr>\n",
              "\t<tr><th scope=row>3</th><td>2020-01-03</td><td>2078.128</td></tr>\n",
              "\t<tr><th scope=row>4</th><td>2020-01-04</td><td>1623.688</td></tr>\n",
              "\t<tr><th scope=row>5</th><td>2020-01-05</td><td>3536.684</td></tr>\n",
              "\t<tr><th scope=row>6</th><td>2020-01-06</td><td>3614.205</td></tr>\n",
              "</tbody>\n",
              "</table>\n"
            ]
          },
          "metadata": {
            "tags": []
          }
        }
      ]
    },
    {
      "cell_type": "code",
      "metadata": {
        "colab": {
          "base_uri": "https://localhost:8080/",
          "height": 282
        },
        "id": "sXnPMF8XJEvF",
        "outputId": "63df29d2-93a7-48e8-c0f9-bb1dc4ac55c0"
      },
      "source": [
        "# Converting the aggregated product into a tibble\n",
        "\n",
        "df <- as_tibble(ano2)\n",
        "head(df)"
      ],
      "execution_count": null,
      "outputs": [
        {
          "output_type": "display_data",
          "data": {
            "text/plain": [
              "  Group.1    Sales   \n",
              "1 2020-01-01 4745.181\n",
              "2 2020-01-02 1945.503\n",
              "3 2020-01-03 2078.128\n",
              "4 2020-01-04 1623.688\n",
              "5 2020-01-05 3536.684\n",
              "6 2020-01-06 3614.205"
            ],
            "text/latex": "A tibble: 6 × 2\n\\begin{tabular}{ll}\n Group.1 & Sales\\\\\n <date> & <dbl>\\\\\n\\hline\n\t 2020-01-01 & 4745.181\\\\\n\t 2020-01-02 & 1945.503\\\\\n\t 2020-01-03 & 2078.128\\\\\n\t 2020-01-04 & 1623.688\\\\\n\t 2020-01-05 & 3536.684\\\\\n\t 2020-01-06 & 3614.205\\\\\n\\end{tabular}\n",
            "text/markdown": "\nA tibble: 6 × 2\n\n| Group.1 &lt;date&gt; | Sales &lt;dbl&gt; |\n|---|---|\n| 2020-01-01 | 4745.181 |\n| 2020-01-02 | 1945.503 |\n| 2020-01-03 | 2078.128 |\n| 2020-01-04 | 1623.688 |\n| 2020-01-05 | 3536.684 |\n| 2020-01-06 | 3614.205 |\n\n",
            "text/html": [
              "<table class=\"dataframe\">\n",
              "<caption>A tibble: 6 × 2</caption>\n",
              "<thead>\n",
              "\t<tr><th scope=col>Group.1</th><th scope=col>Sales</th></tr>\n",
              "\t<tr><th scope=col>&lt;date&gt;</th><th scope=col>&lt;dbl&gt;</th></tr>\n",
              "</thead>\n",
              "<tbody>\n",
              "\t<tr><td>2020-01-01</td><td>4745.181</td></tr>\n",
              "\t<tr><td>2020-01-02</td><td>1945.503</td></tr>\n",
              "\t<tr><td>2020-01-03</td><td>2078.128</td></tr>\n",
              "\t<tr><td>2020-01-04</td><td>1623.688</td></tr>\n",
              "\t<tr><td>2020-01-05</td><td>3536.684</td></tr>\n",
              "\t<tr><td>2020-01-06</td><td>3614.205</td></tr>\n",
              "</tbody>\n",
              "</table>\n"
            ]
          },
          "metadata": {
            "tags": []
          }
        }
      ]
    },
    {
      "cell_type": "code",
      "metadata": {
        "colab": {
          "base_uri": "https://localhost:8080/"
        },
        "id": "ahrYsJJR8iE0",
        "outputId": "fe5de4e6-86f1-4478-dc32-345255d628f5"
      },
      "source": [
        "# Building the model using anomalize and increasing alpa to 0.25\n",
        "\n",
        "df_anomalized <- df %>%\n",
        "    time_decompose(Sales, merge = TRUE) %>%\n",
        "    anomalize(remainder, alpha = 0.25) %>%\n",
        "    time_recompose()\n",
        "    "
      ],
      "execution_count": null,
      "outputs": [
        {
          "output_type": "stream",
          "text": [
            "Converting from tbl_df to tbl_time.\n",
            "Auto-index message: index = Group.1\n",
            "\n",
            "frequency = 7 days\n",
            "\n",
            "trend = 30 days\n",
            "\n"
          ],
          "name": "stderr"
        }
      ]
    },
    {
      "cell_type": "code",
      "metadata": {
        "colab": {
          "base_uri": "https://localhost:8080/"
        },
        "id": "OQFg-wtA8h7F",
        "outputId": "acd1c2aa-5e6e-417c-d0cf-1bad2346a8ca"
      },
      "source": [
        "# Looking at the structure of the new dataset\n",
        "\n",
        "str(df_anomalized)"
      ],
      "execution_count": null,
      "outputs": [
        {
          "output_type": "stream",
          "text": [
            "tbl_time [89 × 11] (S3: tbl_time/tbl_df/tbl/data.frame)\n",
            " $ Group.1      : Date[1:89], format: \"2020-01-01\" \"2020-01-02\" ...\n",
            " $ Sales        : num [1:89] 4745 1946 2078 1624 3537 ...\n",
            " $ observed     : num [1:89] 4745 1946 2078 1624 3537 ...\n",
            " $ season       : num [1:89] 596 -216 -610 -351 696 ...\n",
            " $ trend        : num [1:89] 2886 2952 3018 3084 3147 ...\n",
            " $ remainder    : num [1:89] 1264 -791 -330 -1109 -307 ...\n",
            " $ remainder_l1 : num [1:89] -1925 -1925 -1925 -1925 -1925 ...\n",
            " $ remainder_l2 : num [1:89] 2234 2234 2234 2234 2234 ...\n",
            " $ anomaly      : Named chr [1:89] \"No\" \"No\" \"No\" \"No\" ...\n",
            "  ..- attr(*, \"names\")= chr [1:89] \"25%\" \"25%\" \"25%\" \"25%\" ...\n",
            " $ recomposed_l1: num [1:89] 1556 811 483 808 1919 ...\n",
            " $ recomposed_l2: num [1:89] 5715 4970 4642 4967 6078 ...\n",
            " - attr(*, \"index_quo\")= language ~Group.1\n",
            "  ..- attr(*, \".Environment\")=<environment: 0x562215a725f0> \n",
            " - attr(*, \"index_time_zone\")= chr \"UTC\"\n"
          ],
          "name": "stdout"
        }
      ]
    },
    {
      "cell_type": "code",
      "metadata": {
        "colab": {
          "base_uri": "https://localhost:8080/",
          "height": 617
        },
        "id": "siNQPN1X8hwM",
        "outputId": "1e6289d3-954a-412d-84ee-f373f18cc3b0"
      },
      "source": [
        "# Plotting the amomalies\n",
        "\n",
        "options(repr.plot.width = 10, repr.plot.height = 10)\n",
        "df_anomalized %>% plot_anomalies(time_recomposed = TRUE) +\n",
        "    labs(title = \"Anomalies Detected\", x = \"Date\", y = \"Observed\") + theme(axis.text = element_text(size=18),\n",
        "          axis.title = element_text(size = 18),\n",
        "          plot.title = element_text(hjust = 0.5, size = 22),\n",
        "          legend.title = element_text(size=18),\n",
        "          legend.text = element_text(size=18))"
      ],
      "execution_count": null,
      "outputs": [
        {
          "output_type": "display_data",
          "data": {
            "image/png": "[encoded data removed]",
            "text/plain": [
              "plot without title"
            ]
          },
          "metadata": {
            "tags": [],
            "image/png": {
              "width": 600,
              "height": 600
            }
          }
        }
      ]
    },
    {
      "cell_type": "code",
      "metadata": {
        "colab": {
          "base_uri": "https://localhost:8080/",
          "height": 491
        },
        "id": "sgtcHcdZ8hka",
        "outputId": "a8ce7c83-c33c-4602-f25e-9d9fb0ce84b3"
      },
      "source": [
        "# Extracting the anomalous data point\n",
        "\n",
        "df %>%\n",
        "    time_decompose(Sales, merge = TRUE) %>%\n",
        "    anomalize(remainder, alpha = 0.25) %>%\n",
        "    time_recompose() %>%\n",
        "    filter(anomaly == 'Yes')"
      ],
      "execution_count": null,
      "outputs": [
        {
          "output_type": "stream",
          "text": [
            "Converting from tbl_df to tbl_time.\n",
            "Auto-index message: index = Group.1\n",
            "\n",
            "frequency = 7 days\n",
            "\n",
            "trend = 30 days\n",
            "\n"
          ],
          "name": "stderr"
        },
        {
          "output_type": "display_data",
          "data": {
            "text/plain": [
              "  Group.1    Sales     observed  season    trend    remainder remainder_l1\n",
              "1 2020-01-22 1704.7695 1704.7695  595.6079 4032.228 -2923.066 -1925.024   \n",
              "2 2020-02-07 7228.2105 7228.2105 -610.3359 3401.507  4437.040 -1925.024   \n",
              "3 2020-02-13  934.2375  934.2375 -215.6459 3101.352 -1951.469 -1925.024   \n",
              "4 2020-02-15 6830.7855 6830.7855 -351.4537 3021.627  4160.612 -1925.024   \n",
              "5 2020-02-27 5859.4515 5859.4515 -215.6459 3422.860  2652.237 -1925.024   \n",
              "6 2020-03-02 6560.3055 6560.3055  696.4782 3528.571  2335.256 -1925.024   \n",
              "7 2020-03-09 7474.0470 7474.0470  696.4782 3469.702  3307.867 -1925.024   \n",
              "8 2020-03-14 7214.6340 7214.6340 -610.3359 3255.843  4569.127 -1925.024   \n",
              "9 2020-03-20 5458.2045 5458.2045 -215.6459 3151.972  2521.878 -1925.024   \n",
              "  remainder_l2 anomaly recomposed_l1 recomposed_l2\n",
              "1 2233.955     Yes     2702.8124     6861.791     \n",
              "2 2233.955     Yes      866.1471     5025.125     \n",
              "3 2233.955     Yes      960.6827     5119.661     \n",
              "4 2233.955     Yes      745.1501     4904.128     \n",
              "5 2233.955     Yes     1282.1911     5441.169     \n",
              "6 2233.955     Yes     2300.0258     6459.004     \n",
              "7 2233.955     Yes     2241.1567     6400.135     \n",
              "8 2233.955     Yes      720.4836     4879.462     \n",
              "9 2233.955     Yes     1011.3027     5170.281     "
            ],
            "text/latex": "A tbl\\_time: 9 × 11\n\\begin{tabular}{lllllllllll}\n Group.1 & Sales & observed & season & trend & remainder & remainder\\_l1 & remainder\\_l2 & anomaly & recomposed\\_l1 & recomposed\\_l2\\\\\n <date> & <dbl> & <dbl> & <dbl> & <dbl> & <dbl> & <dbl> & <dbl> & <chr> & <dbl> & <dbl>\\\\\n\\hline\n\t 2020-01-22 & 1704.7695 & 1704.7695 &  595.6079 & 4032.228 & -2923.066 & -1925.024 & 2233.955 & Yes & 2702.8124 & 6861.791\\\\\n\t 2020-02-07 & 7228.2105 & 7228.2105 & -610.3359 & 3401.507 &  4437.040 & -1925.024 & 2233.955 & Yes &  866.1471 & 5025.125\\\\\n\t 2020-02-13 &  934.2375 &  934.2375 & -215.6459 & 3101.352 & -1951.469 & -1925.024 & 2233.955 & Yes &  960.6827 & 5119.661\\\\\n\t 2020-02-15 & 6830.7855 & 6830.7855 & -351.4537 & 3021.627 &  4160.612 & -1925.024 & 2233.955 & Yes &  745.1501 & 4904.128\\\\\n\t 2020-02-27 & 5859.4515 & 5859.4515 & -215.6459 & 3422.860 &  2652.237 & -1925.024 & 2233.955 & Yes & 1282.1911 & 5441.169\\\\\n\t 2020-03-02 & 6560.3055 & 6560.3055 &  696.4782 & 3528.571 &  2335.256 & -1925.024 & 2233.955 & Yes & 2300.0258 & 6459.004\\\\\n\t 2020-03-09 & 7474.0470 & 7474.0470 &  696.4782 & 3469.702 &  3307.867 & -1925.024 & 2233.955 & Yes & 2241.1567 & 6400.135\\\\\n\t 2020-03-14 & 7214.6340 & 7214.6340 & -610.3359 & 3255.843 &  4569.127 & -1925.024 & 2233.955 & Yes &  720.4836 & 4879.462\\\\\n\t 2020-03-20 & 5458.2045 & 5458.2045 & -215.6459 & 3151.972 &  2521.878 & -1925.024 & 2233.955 & Yes & 1011.3027 & 5170.281\\\\\n\\end{tabular}\n",
            "text/markdown": "\nA tbl_time: 9 × 11\n\n| Group.1 &lt;date&gt; | Sales &lt;dbl&gt; | observed &lt;dbl&gt; | season &lt;dbl&gt; | trend &lt;dbl&gt; | remainder &lt;dbl&gt; | remainder_l1 &lt;dbl&gt; | remainder_l2 &lt;dbl&gt; | anomaly &lt;chr&gt; | recomposed_l1 &lt;dbl&gt; | recomposed_l2 &lt;dbl&gt; |\n|---|---|---|---|---|---|---|---|---|---|---|\n| 2020-01-22 | 1704.7695 | 1704.7695 |  595.6079 | 4032.228 | -2923.066 | -1925.024 | 2233.955 | Yes | 2702.8124 | 6861.791 |\n| 2020-02-07 | 7228.2105 | 7228.2105 | -610.3359 | 3401.507 |  4437.040 | -1925.024 | 2233.955 | Yes |  866.1471 | 5025.125 |\n| 2020-02-13 |  934.2375 |  934.2375 | -215.6459 | 3101.352 | -1951.469 | -1925.024 | 2233.955 | Yes |  960.6827 | 5119.661 |\n| 2020-02-15 | 6830.7855 | 6830.7855 | -351.4537 | 3021.627 |  4160.612 | -1925.024 | 2233.955 | Yes |  745.1501 | 4904.128 |\n| 2020-02-27 | 5859.4515 | 5859.4515 | -215.6459 | 3422.860 |  2652.237 | -1925.024 | 2233.955 | Yes | 1282.1911 | 5441.169 |\n| 2020-03-02 | 6560.3055 | 6560.3055 |  696.4782 | 3528.571 |  2335.256 | -1925.024 | 2233.955 | Yes | 2300.0258 | 6459.004 |\n| 2020-03-09 | 7474.0470 | 7474.0470 |  696.4782 | 3469.702 |  3307.867 | -1925.024 | 2233.955 | Yes | 2241.1567 | 6400.135 |\n| 2020-03-14 | 7214.6340 | 7214.6340 | -610.3359 | 3255.843 |  4569.127 | -1925.024 | 2233.955 | Yes |  720.4836 | 4879.462 |\n| 2020-03-20 | 5458.2045 | 5458.2045 | -215.6459 | 3151.972 |  2521.878 | -1925.024 | 2233.955 | Yes | 1011.3027 | 5170.281 |\n\n",
            "text/html": [
              "<table class=\"dataframe\">\n",
              "<caption>A tbl_time: 9 × 11</caption>\n",
              "<thead>\n",
              "\t<tr><th scope=col>Group.1</th><th scope=col>Sales</th><th scope=col>observed</th><th scope=col>season</th><th scope=col>trend</th><th scope=col>remainder</th><th scope=col>remainder_l1</th><th scope=col>remainder_l2</th><th scope=col>anomaly</th><th scope=col>recomposed_l1</th><th scope=col>recomposed_l2</th></tr>\n",
              "\t<tr><th scope=col>&lt;date&gt;</th><th scope=col>&lt;dbl&gt;</th><th scope=col>&lt;dbl&gt;</th><th scope=col>&lt;dbl&gt;</th><th scope=col>&lt;dbl&gt;</th><th scope=col>&lt;dbl&gt;</th><th scope=col>&lt;dbl&gt;</th><th scope=col>&lt;dbl&gt;</th><th scope=col>&lt;chr&gt;</th><th scope=col>&lt;dbl&gt;</th><th scope=col>&lt;dbl&gt;</th></tr>\n",
              "</thead>\n",
              "<tbody>\n",
              "\t<tr><td>2020-01-22</td><td>1704.7695</td><td>1704.7695</td><td> 595.6079</td><td>4032.228</td><td>-2923.066</td><td>-1925.024</td><td>2233.955</td><td>Yes</td><td>2702.8124</td><td>6861.791</td></tr>\n",
              "\t<tr><td>2020-02-07</td><td>7228.2105</td><td>7228.2105</td><td>-610.3359</td><td>3401.507</td><td> 4437.040</td><td>-1925.024</td><td>2233.955</td><td>Yes</td><td> 866.1471</td><td>5025.125</td></tr>\n",
              "\t<tr><td>2020-02-13</td><td> 934.2375</td><td> 934.2375</td><td>-215.6459</td><td>3101.352</td><td>-1951.469</td><td>-1925.024</td><td>2233.955</td><td>Yes</td><td> 960.6827</td><td>5119.661</td></tr>\n",
              "\t<tr><td>2020-02-15</td><td>6830.7855</td><td>6830.7855</td><td>-351.4537</td><td>3021.627</td><td> 4160.612</td><td>-1925.024</td><td>2233.955</td><td>Yes</td><td> 745.1501</td><td>4904.128</td></tr>\n",
              "\t<tr><td>2020-02-27</td><td>5859.4515</td><td>5859.4515</td><td>-215.6459</td><td>3422.860</td><td> 2652.237</td><td>-1925.024</td><td>2233.955</td><td>Yes</td><td>1282.1911</td><td>5441.169</td></tr>\n",
              "\t<tr><td>2020-03-02</td><td>6560.3055</td><td>6560.3055</td><td> 696.4782</td><td>3528.571</td><td> 2335.256</td><td>-1925.024</td><td>2233.955</td><td>Yes</td><td>2300.0258</td><td>6459.004</td></tr>\n",
              "\t<tr><td>2020-03-09</td><td>7474.0470</td><td>7474.0470</td><td> 696.4782</td><td>3469.702</td><td> 3307.867</td><td>-1925.024</td><td>2233.955</td><td>Yes</td><td>2241.1567</td><td>6400.135</td></tr>\n",
              "\t<tr><td>2020-03-14</td><td>7214.6340</td><td>7214.6340</td><td>-610.3359</td><td>3255.843</td><td> 4569.127</td><td>-1925.024</td><td>2233.955</td><td>Yes</td><td> 720.4836</td><td>4879.462</td></tr>\n",
              "\t<tr><td>2020-03-20</td><td>5458.2045</td><td>5458.2045</td><td>-215.6459</td><td>3151.972</td><td> 2521.878</td><td>-1925.024</td><td>2233.955</td><td>Yes</td><td>1011.3027</td><td>5170.281</td></tr>\n",
              "</tbody>\n",
              "</table>\n"
            ]
          },
          "metadata": {
            "tags": []
          }
        }
      ]
    },
    {
      "cell_type": "markdown",
      "metadata": {
        "id": "fRXVjEilJV4S"
      },
      "source": [
        "# 5. Insights\n",
        "\n",
        "The insights that can be made from the analysis are as follows:\n",
        "\n",
        "- Very low sales were made on the 13th of February and 22nd of January that year\n",
        "- Really high sales were made on 9th March, 7th February and 14th of March.\n"
      ]
    },
    {
      "cell_type": "markdown",
      "metadata": {
        "id": "4afpprHzJe9v"
      },
      "source": [
        "# 6. Recommendations\n",
        "\n",
        "In light of the above insights, the following recommendations can be made:\n",
        "\n",
        "- The company should look into finding out why the sales were so high in the days mentioned. For example, high sales on the 7th of February would be because of early Valentine's shopping. \n",
        "\n",
        "- Also given that its the year that COVID hit the globe, high sales on those days may have caused by a mass rush to stock up on supplies as people anticipate a lockdown\n",
        "\n",
        "- Given that the 13th of February is just before Valentine's day, the company can introduce special offers to increase sales on that day. The company should also look into why there were low sales on the 22nd of January as  well."
      ]
    }
  ]
}